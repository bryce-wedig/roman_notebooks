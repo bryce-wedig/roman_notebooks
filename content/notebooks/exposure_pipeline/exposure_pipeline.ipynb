{
 "cells": [
  {
   "cell_type": "markdown",
   "metadata": {
    "slideshow": {
     "slide_type": "slide"
    }
   },
   "source": [
    "# Calibrating WFI Exposures with RomanCal "
   ]
  },
  {
   "cell_type": "markdown",
   "metadata": {
    "slideshow": {
     "slide_type": "skip"
    }
   },
   "source": [
    "***"
   ]
  },
  {
   "cell_type": "markdown",
   "metadata": {
    "slideshow": {
     "slide_type": "slide"
    }
   },
   "source": [
    "## Kernel Information and Read-Only Status\n",
    "\n",
    "To run this notebook, please select the \"Roman Calibration\" kernel at the top right of your window.\n",
    "\n",
    "This notebook is read-only. You can run cells and make edits, but you must save changes to a different location. We recommend saving the notebook within your home directory, or to a new folder within your home (e.g. <span style=\"font-variant:small-caps;\">file > save notebook as > my-nbs/nb.ipynb</span>). Note that a directory must exist before you attempt to add a notebook to it.\n",
    "\n",
    "## Imports\n",
    " Libraries used\n",
    "- *romancal* for running the processing pipeline\n",
    "- *roman_datamodels* for opening Roman WFI ASDF files\n",
    "- *asdf* for opening Roman WFI ASDF files\n",
    "- *os* for checking if files exist\n",
    "- *s3fs* for streaming files from an S3 bucket"
   ]
  },
  {
   "cell_type": "code",
   "execution_count": null,
   "metadata": {
    "slideshow": {
     "slide_type": "fragment"
    }
   },
   "outputs": [],
   "source": [
    "import roman_datamodels as rdm\n",
    "import asdf\n",
    "import romancal\n",
    "from romancal.pipeline import ExposurePipeline\n",
    "import os\n",
    "import s3fs"
   ]
  },
  {
   "cell_type": "markdown",
   "metadata": {
    "slideshow": {
     "slide_type": "slide"
    }
   },
   "source": [
    "## Introduction\n",
    "The purpose of this notebook is to calibrate Level 1 (L1; uncalibrated ramp cube) data with the Roman WFI science calibration pipeline RomanCal (Python package name `romancal`) to produce Level 2 (L2; calibrated rate image) exposure level data. To learn more, please visit the [RDox pages on the Exposure Level Pipeline](https://roman-docs.stsci.edu/data-handbook-home/roman-stsci-data-pipelines/exposure-level-pipeline).\n",
    "\n",
    "Details about the Roman data levels can be found in the RDox article [Data Levels and Products](https://roman-docs.stsci.edu/data-handbook-home/wfi-data-format/data-levels-and-products). A L1 file contains a single uncalibrated ramp in units of Data Numbers (DN).  L1 files are three-dimensional data cubes, one dimension for time and two dimensions for image coordinates, that are shaped as  arrays with (N resultants, 4096 image rows, 4096 image columns). L2 WFI files are calibrated rate images in instrumental units of DN / second.  They are two-dimensional arrays shaped as (4088 image rows, 4088 image columns)."
   ]
  },
  {
   "cell_type": "markdown",
   "metadata": {},
   "source": [
    "***"
   ]
  },
  {
   "cell_type": "markdown",
   "metadata": {
    "slideshow": {
     "slide_type": "slide"
    }
   },
   "source": [
    "## Tutorial Data\n",
    "In this tutorial, we use L1 WFI data files simulated with `romanisim`. We will use as an example the output from running the [Roman I-Sim](../romanisim/romanisim.ipynb) tutorial notebook. If you did not run the simulation tutorial, then the files are also stored in the RRN S3 bucket. For more information on how to access these data, see the [Data Discovery and Access](../data_discovery_and_access/data_discovery_and_access.ipynb) tutorial."
   ]
  },
  {
   "cell_type": "markdown",
   "metadata": {},
   "source": [
    "## Run romancal on L1 Data\n",
    "To run `romancal` on the L1 data, there are two options:\n",
    "1. You can use the exposure-level pipeline to run all steps (basic), or\n",
    "2. You can run one or more individual steps (advanced).\n",
    "\n",
    "### Basic Example: Full Pipeline\n",
    "\n",
    "The input file for our example is a WFI L1 ASDF file. We must copy the file to our local storage as the RomanCal exposure pipeline currently only works with an input file on disk. Individual pipeline steps (described further below) can run directly on datamodels in memory."
   ]
  },
  {
   "cell_type": "code",
   "execution_count": null,
   "metadata": {},
   "outputs": [],
   "source": [
    "if not os.path.exists('r0003201001001001004_0001_wfi01_f106_uncal.asdf'):\n",
    "    asdf_dir_uri = 's3://roman-sci-test-data-prod-summer-beta-test/'\n",
    "    fs = s3fs.S3FileSystem()\n",
    "\n",
    "    asdf_file_uri = asdf_dir_uri + 'AAS_WORKSHOP/r0003201001001001004_0001_wfi01_f106_uncal.asdf'\n",
    "    _ = fs.get(asdf_file_uri, '.')"
   ]
  },
  {
   "cell_type": "markdown",
   "metadata": {},
   "source": [
    "Let's start with the basic example of running the \"complete\" pipeline. Please note that we are skipping the final two steps in the pipeline: source catalog and tweakreg (see note below). Alignment to Gaia is not necessary for these data as they are simulated using the Gaia catalog. There are other optional parameters that may be set for individual steps in a similar manner, and more information can be found in the [romancal documentation](https://roman-pipeline.readthedocs.io/en/latest/index.html).\n",
    "\n",
    "The save_results optional parameter will save the resulting file to your local disk. You can enable this by setting the value to `True`. In our example, we will keep the output calibrated result in memory without saving it locally.\n",
    "\n",
    "**Note:** Recent testing has shown that the source catalog step may crash under specific conditions. Caution is advised while we work on fixing the problem."
   ]
  },
  {
   "cell_type": "code",
   "execution_count": null,
   "metadata": {},
   "outputs": [],
   "source": [
    "result = ExposurePipeline.call('r0003201001001001004_0001_wfi01_f106_uncal.asdf', save_results=False, steps={'source_catalog': {'skip': True}, 'tweakreg': {'skip': True}})"
   ]
  },
  {
   "cell_type": "markdown",
   "metadata": {},
   "source": [
    "The output from the exposure pipeline is currently returned as a list. You will need to index the results variable with a `[0]` to access the datamodel object."
   ]
  },
  {
   "cell_type": "code",
   "execution_count": null,
   "metadata": {},
   "outputs": [],
   "source": [
    "type(result)"
   ]
  },
  {
   "cell_type": "code",
   "execution_count": null,
   "metadata": {},
   "outputs": [],
   "source": [
    "type(result[0])"
   ]
  },
  {
   "cell_type": "markdown",
   "metadata": {},
   "source": [
    "In the example above, you can see how we passed optional parameters to individual steps in the pipeline. The pipeline steps in order are:\n",
    "\n",
    "- `romancal.dq_init.dq_init_step`: Bad pixel masking and data quality initialization\n",
    "- `romancal.saturation.SaturationStep`: Saturation flagging up-the-ramp\n",
    "- `romancal.refpix.RefPixStep`: 1/f noise correction\n",
    "- `romancal.linearity.LinearityStep`: Classic non-linearity correction\n",
    "- `romancal.dark_current.DarkCurrentStep`: Dark current subtraction\n",
    "- `romancal.ramp_fitting.ramp_fit_step`: Jump detection and fitting up-the-ramp\n",
    "- `romancal.assign_wcs.AssignWcsStep`: Initialize the WCS with the pointing information\n",
    "- `romancal.flatfield.FlatFieldStep`: Apply the flat field to the data\n",
    "- `romancal.photom.PhotomStep`: Populate photometric calibration information\n",
    "- `romancal.source_detection.SourceCatalog`: Run source detection on the image, perform point spread function (PSF) fitting photometry, and generate a source catalog\n",
    "- `romancal.tweakreg.TweakRegStep`: Match sources to Gaia and update WCS information\n",
    "\n",
    "Note that the ramp fitting step transforms the datamodel in memory. Therefore, steps following ramp fitting cannot be applied to a data model that has not undergone ramp fitting, and similarly, steps preceeding ramp fitting should not be applied to a  data model after this step.\n",
    "\n",
    "### Advanced Example: Running Individual Pipeline Steps\n",
    "\n",
    "Now, for a more advanced use case, let's update the WCS based on the pointing information. In this example, let's imagine that we have simulated a field in a L2 calibrated file, and we want to update the distortion model in the file's GWCS (Generalized World Coordinate System) object. We can accomplish this by running the individual AssignWcsStep on an L2 ASDF file. If you ran the previous cells, the file should already be saved on disk. If not, we can stream it from the S3 bucket."
   ]
  },
  {
   "cell_type": "code",
   "execution_count": null,
   "metadata": {},
   "outputs": [],
   "source": [
    "if os.path.exists('r0003201001001001004_0001_wfi01_f106_cal.asdf'):\n",
    "    dm = rdm.open(f)\n",
    "else:\n",
    "    asdf_dir_uri = 's3://roman-sci-test-data-prod-summer-beta-test/'\n",
    "    fs = s3fs.S3FileSystem()\n",
    "\n",
    "    asdf_file_uri = asdf_dir_uri + 'AAS_WORKSHOP/r0003201001001001004_0001_wfi01_f106_cal.asdf'\n",
    "    with fs.open(asdf_file_uri, 'rb') as f:\n",
    "        af = asdf.open(f)\n",
    "        dm = rdm.open(af)"
   ]
  },
  {
   "cell_type": "markdown",
   "metadata": {},
   "source": [
    "Next, let's run AssignWcsStep on the datamodel. Doing so will return an updated datamodel in memory:"
   ]
  },
  {
   "cell_type": "code",
   "execution_count": null,
   "metadata": {},
   "outputs": [],
   "source": [
    "dm.info()"
   ]
  },
  {
   "cell_type": "code",
   "execution_count": null,
   "metadata": {},
   "outputs": [],
   "source": [
    "result = romancal.assign_wcs.AssignWcsStep.call(dm)"
   ]
  },
  {
   "cell_type": "markdown",
   "metadata": {},
   "source": [
    "In this case, the output from the step is the datamodel rather than a list:"
   ]
  },
  {
   "cell_type": "code",
   "execution_count": null,
   "metadata": {},
   "outputs": [],
   "source": [
    "type(result)"
   ]
  },
  {
   "cell_type": "markdown",
   "metadata": {},
   "source": [
    "If we would like to use our own version of the distortion reference file rather than the one from CRDS, then we can use the file with the override_distortion optional parameter:"
   ]
  },
  {
   "cell_type": "code",
   "execution_count": null,
   "metadata": {},
   "outputs": [],
   "source": [
    "# wcs_step = romancal.assign_wcs.AssignWcsStep.call(dm, override_distortion='my_distortion_file.asdf')"
   ]
  },
  {
   "cell_type": "markdown",
   "metadata": {},
   "source": [
    "Similar override parameters exist for all reference file types. More information on WFI reference file types may be found in the RDox article [CRDS for Reference Files](https://roman-docs.stsci.edu/data-handbook-home/accessing-wfi-data/crds-for-reference-files).\n",
    "\n",
    "As before, we directed the updated datamodel to the variable \"result\" in active memory. We can access the information in the \"result\" (such as the gwcs object or data array) as in any other datamodel object. To write the result to disk, we can do so with the `save()` method. We can also pass this datamodel along to the next pipeline step and chain steps together. For more information on working with datamodels, see the [Working with ASDF](../working_with_asdf/working_with_asdf.ipynb) tutorial."
   ]
  },
  {
   "cell_type": "markdown",
   "metadata": {},
   "source": [
    "## Additional Resources\n",
    "- [romanisim](https://romanisim.readthedocs.io/en/latest/index.html)\n",
    "- [romancal](https://roman-pipeline.readthedocs.io/en/latest/index.html)\n",
    "- [Roman Documentation](https://roman-docs.stsci.edu)"
   ]
  },
  {
   "cell_type": "markdown",
   "metadata": {
    "slideshow": {
     "slide_type": "slide"
    }
   },
   "source": [
    "## About this Notebook\n",
    "**Author:** Sanjib Sharma, Tyler Desjardins  \n",
    "**Updated On:** 2025-01-10"
   ]
  },
  {
   "cell_type": "markdown",
   "metadata": {},
   "source": [
    "***"
   ]
  },
  {
   "cell_type": "markdown",
   "metadata": {},
   "source": [
    "[Top of Page](#top)\n",
    "<img style=\"float: right;\" src=\"https://raw.githubusercontent.com/spacetelescope/notebooks/master/assets/stsci_pri_combo_mark_horizonal_white_bkgd.png\" alt=\"Space Telescope Logo\" width=\"200px\"/> "
   ]
  }
 ],
 "metadata": {
  "kernelspec": {
   "display_name": "Python 3 (ipykernel)",
   "language": "python",
   "name": "python3"
  },
  "language_info": {
   "codemirror_mode": {
    "name": "ipython",
    "version": 3
   },
   "file_extension": ".py",
   "mimetype": "text/x-python",
   "name": "python",
   "nbconvert_exporter": "python",
   "pygments_lexer": "ipython3",
   "version": "3.11.11"
  }
 },
 "nbformat": 4,
 "nbformat_minor": 4
}
