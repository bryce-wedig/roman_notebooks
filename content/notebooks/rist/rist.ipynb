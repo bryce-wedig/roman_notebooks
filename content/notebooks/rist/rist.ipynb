{
 "cells": [
  {
   "cell_type": "markdown",
   "metadata": {
    "slideshow": {
     "slide_type": "slide"
    }
   },
   "source": [
    "# The Roman Interactive Sensitivity Tool (RIST)"
   ]
  },
  {
   "cell_type": "markdown",
   "metadata": {
    "slideshow": {
     "slide_type": "skip"
    }
   },
   "source": [
    "***"
   ]
  },
  {
   "cell_type": "markdown",
   "metadata": {
    "slideshow": {
     "slide_type": "slide"
    }
   },
   "source": [
    "## Kernel Information\n",
    "\n",
    "To run this notebook, please select the \"Roman Calibration\" kernel at the top right of your window.\n",
    "\n",
    "## Introduction\n",
    "The Roman Interactive Sensitivity Tool (RIST) is a simulation tool designed to help users quickly explore the feasibility of observations for the Wide Field Instrument (WFI). The RIST is a simplified version of [Pandeia](https://www.stsci.edu/roman/science-planning-toolbox/pandeia) (the Exposure Time Calculator) -- it uses a pre-computed grid of exposure time calculations with Pandeia that sample a set of exposure parameters and observing setups.\n",
    "\n",
    "The RIST provides users an estimate of signal-to-noise ratio (SNR) based on their selections of source brightness, background and level, multi-accumulation (MA) tables, and number of resultants, while using a single on-axis point source with a flat spectrum. \n",
    "\n",
    "\n",
    "## Requirements\n",
    "The RIST depends on a number of modules to run. A comprehensive list of these modules and how they are utilized are listed below:\n",
    "- *NumPy* for numerical computing\n",
    "- *pandas* to read and load the pre-computed *pandeia* grid\n",
    "- *bokeh* for the interactive plotting\n",
    "- *xarray* to provide RIST an N-dimentional array as a structure of the pre-computed *pandeia* grid\n",
    "- *SciPy* to interpolate RIST's *xarray* grid.\n",
    "- *Pandeia* is the Exposure Time Calculator for Roman and is used to compute a grid that samples a set of parameter space. Pandeia uses the following modules:\n",
    "  - *astropy* \n",
    "  - *photutils==1.7.0*\n",
    "  - *synphot==1.2.0*\n",
    "  - *stsynphot==1.2.0*\n",
    "  - *six==1.16.0*\n",
    "  - *setuptools==67.7.0*\n",
    "\n",
    "\n",
    "## Import \n",
    "The RIST is designed to work within a Jupyter notebook cell with an import of the ``plot_rist`` module.\n",
    "Execute the cell below to start using the RIST.\n",
    "***"
   ]
  },
  {
   "cell_type": "code",
   "execution_count": null,
   "metadata": {
    "slideshow": {
     "slide_type": "fragment"
    }
   },
   "outputs": [],
   "source": [
    "from plot_rist import plot_rist"
   ]
  },
  {
   "cell_type": "markdown",
   "metadata": {},
   "source": [
    "## Notes\n",
    "- RIST assumes a point source target with a flat spectral energy distribution. For extended sources or targets with different spectral shapes, please use Pandeia for more accurate results.\n",
    "- The source magnitude is in ABmag.\n",
    "- Background were calculated using the [JWST Backgrounds Tool](https://jwst-docs.stsci.edu/jwst-other-tools/jwst-backgrounds-tool#gsc.tab=0). \n",
    "    - The \"ecliptic\" background option refers to a background along the ecliptic (ecliptic coordinates Lon = 90° &  Lat = 0°). \n",
    "    - The \"minzodi\" background option refers to a background at RA = 17:26:49 & Dec = -73:20:03 (J2000). At this location, the zodiacal emission is 20% higher than the celestial minimum.\n",
    "    - The \"benchmark\" background refers to the background at the minzodi location on June 19, 2020. \n",
    "    - The low, medium, and high backgrounds refer to the 10th, 50th, and 90th percentile, respectively, of the average background at the specified position over the period of visibility.\n",
    "- Multi-accumulation (MA) tables describe the sequence of individual reads that are combined into resultants and that comprise the up-the-ramp simplaing during a single exposure of the WFI detectors. The MA tables currently available in the RIST are based on the Roman Design Reference Mission, and are thoroughly documented on [RDox](https://roman-docs.stsci.edu/raug/astronomers-proposal-tool-apt/appendix/appendix-wfi-multiaccum-tables).\n",
    "- The RIST uses the following abbreviations:\n",
    "    - HLWAS: High Latitude Wide Area Survey\n",
    "    - HLTDS: High Latitude Time Domain Survey\n",
    "    - GBTDS: Galactic Bulge Time Domain Survey\n",
    "- The computed SNR values can be visualized by hovering the cursor over the points in the plot.\n",
    "- Pandeia cannot calculate a SNR for saturated sources. In the RIST, saturated points are set to zero and marked as triangles in the plot.\n",
    "- The x-axis shows the central wavelength of each Roman filter.\n",
    "- Once you are satisfied with the estimated SNRs, you should use [Roman ETC](link_here) to provide specific observing parameters for [Roman APT](https://roman-docs.stsci.edu/raug)."
   ]
  },
  {
   "cell_type": "markdown",
   "metadata": {},
   "source": [
    "***"
   ]
  },
  {
   "cell_type": "markdown",
   "metadata": {},
   "source": [
    "## Caveats\n",
    "- Any limitations that Pandeia bears are also interited by the RIST. Please see [RDox for Pandeia](https://roman-docs.stsci.edu/simulation-tools-handbook-home/pandeia-for-roman/caveats-for-using-pandeia-for-roman) for the details on caveats for using Pandeia for Roman.\n",
    "- The current version does not handle the following features and the users need to use Pandeia for:\n",
    "    - Different types of target spectrum -- all SNR computations are performed for a point source with a flat spectral energy distribution. \n",
    "    - The spectroscopic observing mode -- future versions of RIST will support the WFI spectrocopic mode. "
   ]
  },
  {
   "cell_type": "markdown",
   "metadata": {},
   "source": [
    "## Additional Resources\n",
    "\n",
    "- RIST Article on RDox (coming soon)\n",
    "- [Introduction to WFI](https://roman-docs.stsci.edu/roman-instruments-home/wfi-imaging-mode-user-guide/introduction-to-wfi)\n",
    "- [WFI MultiAccum Tables](https://roman-docs.stsci.edu/raug/astronomers-proposal-tool-apt/appendix/appendix-wfi-multiaccum-tables)\n",
    "- [Pandeia for Roman on RDox](https://roman-docs.stsci.edu/simulation-tools-handbook-home/pandeia-for-roman)\n",
    "- [Other Roman Simulation Tools](https://roman-docs.stsci.edu/simulation-tools-handbook-home)\n"
   ]
  },
  {
   "cell_type": "markdown",
   "metadata": {},
   "source": [
    "## Software release\n",
    "We expect to release an updated version of the RIST pre-computed grid every time Pandeia updates its reference files for Roman. The current grid is generated using the following versions of Pandeia and its reference data:\n",
    "\n",
    "   - Pandeia_version: 3.1\n",
    "   - Pandeia_refdata: 3.1\n"
   ]
  },
  {
   "cell_type": "markdown",
   "metadata": {},
   "source": [
    "## Help\n",
    "For assistance with the RIST, please contact the Roman SOC Help Desk through https://stsci.service-now.com/roman\n"
   ]
  },
  {
   "cell_type": "markdown",
   "metadata": {
    "slideshow": {
     "slide_type": "slide"
    }
   },
   "source": [
    "## About this notebook\n",
    "\n",
    "**Author:** Eunkyu Han  \n",
    "**Last Updated**: 2024 May"
   ]
  },
  {
   "cell_type": "markdown",
   "metadata": {},
   "source": [
    "***"
   ]
  },
  {
   "cell_type": "markdown",
   "metadata": {},
   "source": [
    "[Top of Page](#top)\n",
    "<img style=\"float: right;\" src=\"https://raw.githubusercontent.com/spacetelescope/notebooks/master/assets/stsci_pri_combo_mark_horizonal_white_bkgd.png\" alt=\"Space Telescope Logo\" width=\"200px\"/> "
   ]
  }
 ],
 "metadata": {
  "kernelspec": {
   "display_name": "Python 3 (ipykernel)",
   "language": "python",
   "name": "python3"
  },
  "language_info": {
   "codemirror_mode": {
    "name": "ipython",
    "version": 3
   },
   "file_extension": ".py",
   "mimetype": "text/x-python",
   "name": "python",
   "nbconvert_exporter": "python",
   "pygments_lexer": "ipython3",
   "version": "3.11.9"
  }
 },
 "nbformat": 4,
 "nbformat_minor": 4
}
